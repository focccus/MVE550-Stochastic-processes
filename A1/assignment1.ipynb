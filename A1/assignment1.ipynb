{
 "cells": [
  {
   "cell_type": "code",
   "execution_count": 2,
   "metadata": {
    "vscode": {
     "languageId": "r"
    }
   },
   "outputs": [],
   "source": [
    "library(ggplot2)"
   ]
  },
  {
   "cell_type": "markdown",
   "metadata": {},
   "source": [
    "## 1: Baysian Inference"
   ]
  },
  {
   "cell_type": "code",
   "execution_count": null,
   "metadata": {
    "vscode": {
     "languageId": "r"
    }
   },
   "outputs": [],
   "source": []
  },
  {
   "cell_type": "markdown",
   "metadata": {},
   "source": [
    "## 2: Markov Chain\n",
    "![graph](./graph.png)\n"
   ]
  },
  {
   "cell_type": "code",
   "execution_count": 23,
   "metadata": {
    "vscode": {
     "languageId": "r"
    }
   },
   "outputs": [
    {
     "name": "stdout",
     "output_type": "stream",
     "text": [
      "     [,1]     [,2]      [,3]      [,4]     [,5]\n",
      "[1,]    1 2.575758 1.2727273 1.2121212 1.515152\n",
      "[2,]    0 3.575758 1.2727273 1.2121212 1.515152\n",
      "[3,]    0 2.060606 1.8181818 0.9696970 1.212121\n",
      "[4,]    0 2.363636 0.9090909 1.8181818 1.272727\n",
      "[5,]    0 2.303030 1.0909091 0.8484848 2.060606\n",
      "     [,1]\n",
      "[1,]    1\n",
      "[2,]    1\n",
      "[3,]    1\n",
      "[4,]    1\n",
      "[5,]    1\n",
      "          [,1]\n",
      "[1,] 1.2121212\n",
      "[2,] 1.2121212\n",
      "[3,] 0.9696970\n",
      "[4,] 0.8181818\n",
      "[5,] 0.8484848\n",
      "[1] 0.25 0.25 0.25 0.00 0.00\n"
     ]
    }
   ],
   "source": [
    "\n",
    "\n",
    "Q <- matrix(c(0, 1, 1, 1, 1,  \n",
    "              0, 1, 1, 1, 1,\n",
    "              0, 1, 0, 1, 1, # + 1/4 probability to 6\n",
    "              0, 2, 0, 0, 1, # + 1/4 probability to 6\n",
    "              0, 2, 1, 0, 0 # + 1/4 probability to 6\n",
    "              ), 5, 5, byrow=T)/4\n",
    "\n",
    "R <- c(0, 0, 1, 1, 1)/4\n",
    "F <- solve(diag(5)-Q)\n",
    "print(F)\n",
    "\n",
    "# Probability of absorbtion (should be 1)\n",
    "print(F%*%R)\n",
    "\n",
    "# Probability of visiting state 3 at least once:\n",
    "print(F%*%c(1,1,1,0,0)/4)\n",
    "print(Q[,4])"
   ]
  },
  {
   "cell_type": "code",
   "execution_count": null,
   "metadata": {
    "vscode": {
     "languageId": "r"
    }
   },
   "outputs": [
    {
     "name": "stdout",
     "output_type": "stream",
     "text": [
      "         [,1]\n",
      "[1,] 7.575758\n",
      "[2,] 7.575758\n",
      "[3,] 6.060606\n",
      "[4,] 6.363636\n",
      "[5,] 6.303030\n"
     ]
    }
   ],
   "source": [
    "# Expected number of steps to absorbtion is given by first element of F1\n",
    "print(F%*%rep(1, 5))"
   ]
  },
  {
   "cell_type": "code",
   "execution_count": 14,
   "metadata": {
    "vscode": {
     "languageId": "r"
    }
   },
   "outputs": [],
   "source": [
    "# Probability of revisiting state 3"
   ]
  },
  {
   "cell_type": "code",
   "execution_count": null,
   "metadata": {
    "vscode": {
     "languageId": "r"
    }
   },
   "outputs": [],
   "source": []
  }
 ],
 "metadata": {
  "kernelspec": {
   "display_name": "R",
   "language": "R",
   "name": "ir"
  },
  "language_info": {
   "codemirror_mode": "r",
   "file_extension": ".r",
   "mimetype": "text/x-r-source",
   "name": "R",
   "pygments_lexer": "r",
   "version": "4.4.2"
  }
 },
 "nbformat": 4,
 "nbformat_minor": 2
}
