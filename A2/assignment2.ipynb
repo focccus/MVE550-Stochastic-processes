{
  "cells": [
    {
      "cell_type": "code",
      "source": [
        "# Clone the repository\n",
        "system(\"git clone https://github.com/focccus/MVE550-Stochastic-processes.git\")\n",
        "# Check the cloned repository\n",
        "setwd(\"MVE550-Stochastic-processes/A2\")\n",
        "system(\"ls\",intern = TRUE)"
      ],
      "metadata": {
        "id": "nuLbQvT-IBGe",
        "outputId": "158ef61a-0025-45c8-e12a-d53e9cb998ff",
        "colab": {
          "base_uri": "https://localhost:8080/",
          "height": 72
        }
      },
      "execution_count": 30,
      "outputs": [
        {
          "output_type": "display_data",
          "data": {
            "text/html": [
              "<style>\n",
              ".list-inline {list-style: none; margin:0; padding: 0}\n",
              ".list-inline>li {display: inline-block}\n",
              ".list-inline>li:not(:last-child)::after {content: \"\\00b7\"; padding: 0 .5ex}\n",
              "</style>\n",
              "<ol class=list-inline><li>'assignment2.ipynb'</li><li>'assignment-2.pdf'</li><li>'assignment_files'</li><li>'assignment.tex'</li><li>'assignment.typ'</li><li>'branching_process.png'</li><li>'branching.R'</li><li>'dataAssignment2.txt'</li><li>'MVE550-Stochastic-processes'</li><li>'RcodeLecture6.R'</li><li>'RcodeLecture7.R'</li><li>'RcodeLecture8.R'</li></ol>\n"
            ],
            "text/markdown": "1. 'assignment2.ipynb'\n2. 'assignment-2.pdf'\n3. 'assignment_files'\n4. 'assignment.tex'\n5. 'assignment.typ'\n6. 'branching_process.png'\n7. 'branching.R'\n8. 'dataAssignment2.txt'\n9. 'MVE550-Stochastic-processes'\n10. 'RcodeLecture6.R'\n11. 'RcodeLecture7.R'\n12. 'RcodeLecture8.R'\n\n\n",
            "text/latex": "\\begin{enumerate*}\n\\item 'assignment2.ipynb'\n\\item 'assignment-2.pdf'\n\\item 'assignment\\_files'\n\\item 'assignment.tex'\n\\item 'assignment.typ'\n\\item 'branching\\_process.png'\n\\item 'branching.R'\n\\item 'dataAssignment2.txt'\n\\item 'MVE550-Stochastic-processes'\n\\item 'RcodeLecture6.R'\n\\item 'RcodeLecture7.R'\n\\item 'RcodeLecture8.R'\n\\end{enumerate*}\n",
            "text/plain": [
              " [1] \"assignment2.ipynb\"           \"assignment-2.pdf\"           \n",
              " [3] \"assignment_files\"            \"assignment.tex\"             \n",
              " [5] \"assignment.typ\"              \"branching_process.png\"      \n",
              " [7] \"branching.R\"                 \"dataAssignment2.txt\"        \n",
              " [9] \"MVE550-Stochastic-processes\" \"RcodeLecture6.R\"            \n",
              "[11] \"RcodeLecture7.R\"             \"RcodeLecture8.R\"            "
            ]
          },
          "metadata": {}
        }
      ]
    },
    {
      "cell_type": "code",
      "execution_count": 31,
      "metadata": {
        "vscode": {
          "languageId": "r"
        },
        "id": "dRUlWHy25FTB",
        "outputId": "3a38f6f0-e7f5-4252-c138-02693116ba1e",
        "colab": {
          "base_uri": "https://localhost:8080/",
          "height": 432
        }
      },
      "outputs": [
        {
          "output_type": "display_data",
          "data": {
            "text/html": [
              "<table class=\"dataframe\">\n",
              "<caption>A data.frame: 10 × 3</caption>\n",
              "<thead>\n",
              "\t<tr><th></th><th scope=col>x</th><th scope=col>y</th><th scope=col>z</th></tr>\n",
              "\t<tr><th></th><th scope=col>&lt;dbl&gt;</th><th scope=col>&lt;dbl&gt;</th><th scope=col>&lt;int&gt;</th></tr>\n",
              "</thead>\n",
              "<tbody>\n",
              "\t<tr><th scope=row>1</th><td>1.144</td><td>19.1</td><td>0</td></tr>\n",
              "\t<tr><th scope=row>2</th><td>1.439</td><td>16.5</td><td>1</td></tr>\n",
              "\t<tr><th scope=row>3</th><td>1.260</td><td>23.5</td><td>1</td></tr>\n",
              "\t<tr><th scope=row>4</th><td>0.921</td><td>20.7</td><td>1</td></tr>\n",
              "\t<tr><th scope=row>5</th><td>1.570</td><td>20.0</td><td>1</td></tr>\n",
              "\t<tr><th scope=row>6</th><td>0.446</td><td>18.9</td><td>0</td></tr>\n",
              "\t<tr><th scope=row>7</th><td>0.641</td><td>17.2</td><td>0</td></tr>\n",
              "\t<tr><th scope=row>8</th><td>1.012</td><td>23.4</td><td>1</td></tr>\n",
              "\t<tr><th scope=row>9</th><td>1.626</td><td>18.0</td><td>0</td></tr>\n",
              "\t<tr><th scope=row>10</th><td>1.924</td><td>20.3</td><td>1</td></tr>\n",
              "</tbody>\n",
              "</table>\n"
            ],
            "text/markdown": "\nA data.frame: 10 × 3\n\n| <!--/--> | x &lt;dbl&gt; | y &lt;dbl&gt; | z &lt;int&gt; |\n|---|---|---|---|\n| 1 | 1.144 | 19.1 | 0 |\n| 2 | 1.439 | 16.5 | 1 |\n| 3 | 1.260 | 23.5 | 1 |\n| 4 | 0.921 | 20.7 | 1 |\n| 5 | 1.570 | 20.0 | 1 |\n| 6 | 0.446 | 18.9 | 0 |\n| 7 | 0.641 | 17.2 | 0 |\n| 8 | 1.012 | 23.4 | 1 |\n| 9 | 1.626 | 18.0 | 0 |\n| 10 | 1.924 | 20.3 | 1 |\n\n",
            "text/latex": "A data.frame: 10 × 3\n\\begin{tabular}{r|lll}\n  & x & y & z\\\\\n  & <dbl> & <dbl> & <int>\\\\\n\\hline\n\t1 & 1.144 & 19.1 & 0\\\\\n\t2 & 1.439 & 16.5 & 1\\\\\n\t3 & 1.260 & 23.5 & 1\\\\\n\t4 & 0.921 & 20.7 & 1\\\\\n\t5 & 1.570 & 20.0 & 1\\\\\n\t6 & 0.446 & 18.9 & 0\\\\\n\t7 & 0.641 & 17.2 & 0\\\\\n\t8 & 1.012 & 23.4 & 1\\\\\n\t9 & 1.626 & 18.0 & 0\\\\\n\t10 & 1.924 & 20.3 & 1\\\\\n\\end{tabular}\n",
            "text/plain": [
              "   x     y    z\n",
              "1  1.144 19.1 0\n",
              "2  1.439 16.5 1\n",
              "3  1.260 23.5 1\n",
              "4  0.921 20.7 1\n",
              "5  1.570 20.0 1\n",
              "6  0.446 18.9 0\n",
              "7  0.641 17.2 0\n",
              "8  1.012 23.4 1\n",
              "9  1.626 18.0 0\n",
              "10 1.924 20.3 1"
            ]
          },
          "metadata": {}
        }
      ],
      "source": [
        "data = read.table(\"dataAssignment2.txt\",header=TRUE)\n",
        "head(data, 10)"
      ]
    },
    {
      "cell_type": "markdown",
      "metadata": {
        "id": "KFxeI42d5FTL"
      },
      "source": [
        "## 1a) Visualize the data\n"
      ]
    },
    {
      "cell_type": "code",
      "execution_count": null,
      "metadata": {
        "vscode": {
          "languageId": "r"
        },
        "id": "uk8hfD3a5FTP",
        "outputId": "7428c3b4-544d-4bee-eeb5-69dac584f534"
      },
      "outputs": [
        {
          "data": {
            "image/png": "[encoded data removed]",
            "text/plain": [
              "plot without title"
            ]
          },
          "metadata": {
            "image/png": {
              "height": 420,
              "width": 420
            }
          },
          "output_type": "display_data"
        }
      ],
      "source": [
        "plot(data$x, data$y, col=ifelse(data$z, \"red\", \"blue\"))"
      ]
    },
    {
      "cell_type": "markdown",
      "metadata": {
        "id": "TPZoo88Z5FTQ"
      },
      "source": [
        "## 1b) What is the likelihood and posterior?\n",
        "Using the model above and the function f , write down the likelihood of the data (i.e., a formula for the probability of the data given the parameters of the model).\n",
        "Also, write down a function that is proportional to the posterior density for the parameters.\n",
        "\n",
        "1. Likelihood of the Data\n",
        "Given:\n",
        "- $$f(x, y, \\theta_1, \\theta_2, \\theta_3) = \\frac{\\exp(e^{\\theta_1} x + e^{\\theta_2} (y - \\theta_3)^2) - 1}{\\exp(e^{\\theta_1} x + e^{\\theta_2} (y - \\theta_3)^2) + 1}$$\n",
        "- The model outputs p, the probability of an animal developing the disease\n",
        "- $$D = \\{(x_i, y_i, z_i)\\}_{i=1}^N$$ is the observed data, where:\n",
        "  - $$x_i, y_i$$ are the pollutant concentration and temperature,are the pollutant concentration and temperature\n",
        "  - $$z_i$$ is the binary outcome indicating whether the animal developed the disease $$z_i = 1$$ or not $$z_i = 0$$\n",
        "\n",
        "The likelihood of the data is the joint probability of observing $$z_i$$ for all animals, assuming independence:\n",
        "\n",
        "$$P(D \\mid \\theta_1, \\theta_2, \\theta_3) = \\prod_{i=1}^N P(z_i \\mid x_i, y_i, \\theta_1, \\theta_2, \\theta_3).$$\n",
        "\n",
        "Substituting $$P(z_i \\mid x_i, y_i, \\theta_1, \\theta_2, \\theta_3)$$:\n",
        "- If $$z_i = 1$$, $$P(z_i \\mid x_i, y_i, \\theta_1, \\theta_2, \\theta_3) = f(x_i, y_i, \\theta_1, \\theta_2, \\theta_3)$$\n",
        "- If $$z_i = 0$$, $$P(z_i \\mid x_i, y_i, \\theta_1, \\theta_2, \\theta_3) = 1 - f(x_i, y_i, \\theta_1, \\theta_2, \\theta_3)$$\n",
        "\n",
        "Thus, the likelihood is:\n",
        "$$P(D \\mid \\theta_1, \\theta_2, \\theta_3) = \\prod_{i=1}^N \\left[ f(x_i, y_i, \\theta_1, \\theta_2, \\theta_3)^{z_i} \\cdot \\left(1 - f(x_i, y_i, \\theta_1, \\theta_2, \\theta_3)\\right)^{1 - z_i} \\right].$$\n",
        "\n",
        "\n",
        "2. Posterior Density (Proportional Function)\n",
        "\n",
        "From Bayes' theorem:\n",
        "\n",
        "$$P(\\theta_1, \\theta_2, \\theta_3 \\mid D) \\propto P(D \\mid \\theta_1, \\theta_2, \\theta_3) P(\\theta_1, \\theta_2, \\theta_3).$$\n",
        "\n",
        "- The prior $$P(\\theta_1, \\theta_2, \\theta_3)$$ is flat, so it is a constant.\n",
        "- Thus, $$P(\\theta_1, \\theta_2, \\theta_3 \\mid D) \\propto P(D \\mid \\theta_1, \\theta_2, \\theta_3)$$\n",
        "\n",
        "Therefore:\n",
        "\n",
        "$$P(\\theta_1, \\theta_2, \\theta_3 \\mid D) \\propto \\prod_{i=1}^N \\left[ f(x_i, y_i, \\theta_1, \\theta_2, \\theta_3)^{z_i} \\cdot \\left(1 - f(x_i, y_i, \\theta_1, \\theta_2, \\theta_3)\\right)^{1 - z_i} \\right].$$"
      ]
    },
    {
      "cell_type": "code",
      "source": [
        "# Define the function f(x, y, theta1, theta2, theta3)\n",
        "f <- function(x, y, theta1, theta2, theta3) {\n",
        "  exp_part <- exp(exp(theta1) * x + exp(theta2) * (y - theta3)^2)\n",
        "  p <- (exp_part - 1) / (exp_part + 1)\n",
        "  return(p)\n",
        "}\n",
        "\n",
        "# Define the likelihood function\n",
        "likelihood <- function(data, theta1, theta2, theta3) {\n",
        "  # Extract x, y, z from the data\n",
        "  x <- data$x\n",
        "  y <- data$y\n",
        "  z <- data$z\n",
        "\n",
        "  # Calculate probabilities for all data points\n",
        "  p <- f(x, y, theta1, theta2, theta3)\n",
        "  # Compute the likelihood\n",
        "  cat(\"P:\",p,\"\\n\")\n",
        "  #likelihood_vals <- z * log(p) + (1 - z) * log(1 - p)\n",
        "  #likelihood_vals <- p^z + (1-p)^(1-z)\n",
        "  likelihood_vals <- ifelse(z==1,p,1-p)\n",
        "  #total_likelihood <- sum(likelihood_vals)\n",
        "  total_likelihood <- prod(likelihood_vals)\n",
        "  #return(exp(total_likelihood))\n",
        "  return(total_likelihood)\n",
        "}\n",
        "\n",
        "# Define a function proportional to the posterior density\n",
        "posterior <- function(data, theta1, theta2, theta3) {\n",
        "  # Flat prior (improper) implies P(theta1, theta2, theta3) ∝ 1, so posterior ∝ likelihood\n",
        "  return(likelihood(data, theta1, theta2, theta3))\n",
        "}\n",
        "\n",
        "# Example usage\n",
        "# Simulated dataset\n",
        "set.seed(42)\n",
        "\n",
        "# Parameters to test\n",
        "theta1 <- -0.001\n",
        "theta2 <- 0.001\n",
        "theta3 <- mean(data$y)\n",
        "\n",
        "# Calculate the likelihood and posterior for the given parameters\n",
        "likelihood_val <- likelihood(data, theta1, theta2, theta3)\n",
        "posterior_val <- posterior(data, theta1, theta2, theta3)\n",
        "\n",
        "# Print results\n",
        "cat(\"Likelihood:\", likelihood_val, \"\\n\")"
      ],
      "metadata": {
        "id": "FFOU_yynHvIw",
        "outputId": "6ef453e1-61de-471e-b106-768c8c72e01e",
        "colab": {
          "base_uri": "https://localhost:8080/"
        }
      },
      "execution_count": 58,
      "outputs": [
        {
          "output_type": "stream",
          "name": "stdout",
          "text": [
            "P: 0.6457919 0.9999859 0.9999996 0.7324999 0.6759287 0.5116001 0.998234 0.999999 0.9802749 0.8094729 0.1350676 0.2674611 0.9999935 0.9996654 0.8784764 0.9998734 0.8196976 0.9517601 0.9999902 0.5762849 0.9532539 0.7341158 0.9260215 0.9885903 0.9926726 0.9999973 0.9999864 0.5590171 0.9933322 0.9614391 0.9999987 0.647083 0.7939775 0.9999993 0.8536029 0.9666131 0.9992261 0.9999968 0.6793581 0.9999986 0.8700113 0.9737611 0.999944 0.9999918 0.4738464 0.8365412 0.999998 0.9965269 0.9999967 0.7745676 0.9974555 0.8508896 0.9997562 0.9999998 0.8014708 0.9954286 0.999986 0.9998641 0.8900371 0.9826564 0.6692136 0.9996543 0.8700855 0.9997283 0.9999623 0.9999999 0.9998158 0.3291231 0.9999693 0.9233303 0.9982411 0.6815855 0.9990583 0.9998895 0.9998097 0.9952086 0.999589 0.9995887 0.6166269 0.9997666 0.9596823 0.781603 0.9999996 0.9922485 0.9776143 0.9999639 0.8585332 0.5685573 0.969131 0.9999999 0.9940777 0.8812854 0.593509 0.9998099 0.9959433 0.980796 0.9999757 0.8497365 0.9997096 0.8039886 0.954266 0.3334392 0.9903734 0.9999979 0.9998458 0.9999994 0.9898708 0.9999915 0.9999784 1 0.9999995 0.9999999 0.9968422 0.6475064 0.9916772 0.9999988 0.9542487 0.7203652 0.9999997 0.8345176 0.9518173 0.9998043 0.7767592 0.879689 0.9667776 0.999999 0.9999998 \n",
            "likelihood_vals:  0.3542081 0.9999859 0.9999996 0.7324999 0.6759287 0.4883999 0.001765965 0.999999 0.01972511 0.8094729 0.8649324 0.7325389 0.9999935 0.9996654 0.1215236 0.9998734 0.8196976 0.9517601 0.9999902 0.4237151 0.9532539 0.7341158 0.07397849 0.01140969 0.007327449 0.9999973 0.9999864 0.4409829 0.9933322 0.9614391 0.9999987 0.647083 0.2060225 0.9999993 0.8536029 0.03338693 0.0007738876 0.9999968 0.6793581 0.9999986 0.1299887 0.9737611 0.999944 0.9999918 0.4738464 0.1634588 0.999998 0.9965269 0.9999967 0.2254324 0.002544519 0.8508896 0.9997562 0.9999998 0.1985292 0.9954286 0.999986 0.9998641 0.8900371 0.01734361 0.6692136 0.9996543 0.8700855 0.9997283 0.9999623 0.9999999 0.9998158 0.6708769 0.9999693 0.9233303 0.001758928 0.6815855 0.9990583 0.9998895 0.9998097 0.9952086 0.0004109984 0.9995887 0.3833731 0.9997666 0.04031766 0.781603 0.9999996 0.9922485 0.9776143 0.9999639 0.8585332 0.4314427 0.030869 0.9999999 0.9940777 0.1187146 0.593509 0.9998099 0.004056696 0.01920397 0.9999757 0.1502635 0.0002903785 0.8039886 0.04573403 0.6665608 0.009626603 0.9999979 0.9998458 0.9999994 0.9898708 0.9999915 2.161789e-05 1 5.368642e-07 0.9999999 0.9968422 0.3524936 0.008322809 0.9999988 0.9542487 0.2796348 0.9999997 0.8345176 0.9518173 0.9998043 0.2232408 0.879689 0.9667776 0.999999 0.9999998 \n",
            "total_likelihood:  5.834926e-66 \n",
            "P: 0.6457919 0.9999859 0.9999996 0.7324999 0.6759287 0.5116001 0.998234 0.999999 0.9802749 0.8094729 0.1350676 0.2674611 0.9999935 0.9996654 0.8784764 0.9998734 0.8196976 0.9517601 0.9999902 0.5762849 0.9532539 0.7341158 0.9260215 0.9885903 0.9926726 0.9999973 0.9999864 0.5590171 0.9933322 0.9614391 0.9999987 0.647083 0.7939775 0.9999993 0.8536029 0.9666131 0.9992261 0.9999968 0.6793581 0.9999986 0.8700113 0.9737611 0.999944 0.9999918 0.4738464 0.8365412 0.999998 0.9965269 0.9999967 0.7745676 0.9974555 0.8508896 0.9997562 0.9999998 0.8014708 0.9954286 0.999986 0.9998641 0.8900371 0.9826564 0.6692136 0.9996543 0.8700855 0.9997283 0.9999623 0.9999999 0.9998158 0.3291231 0.9999693 0.9233303 0.9982411 0.6815855 0.9990583 0.9998895 0.9998097 0.9952086 0.999589 0.9995887 0.6166269 0.9997666 0.9596823 0.781603 0.9999996 0.9922485 0.9776143 0.9999639 0.8585332 0.5685573 0.969131 0.9999999 0.9940777 0.8812854 0.593509 0.9998099 0.9959433 0.980796 0.9999757 0.8497365 0.9997096 0.8039886 0.954266 0.3334392 0.9903734 0.9999979 0.9998458 0.9999994 0.9898708 0.9999915 0.9999784 1 0.9999995 0.9999999 0.9968422 0.6475064 0.9916772 0.9999988 0.9542487 0.7203652 0.9999997 0.8345176 0.9518173 0.9998043 0.7767592 0.879689 0.9667776 0.999999 0.9999998 \n",
            "likelihood_vals:  0.3542081 0.9999859 0.9999996 0.7324999 0.6759287 0.4883999 0.001765965 0.999999 0.01972511 0.8094729 0.8649324 0.7325389 0.9999935 0.9996654 0.1215236 0.9998734 0.8196976 0.9517601 0.9999902 0.4237151 0.9532539 0.7341158 0.07397849 0.01140969 0.007327449 0.9999973 0.9999864 0.4409829 0.9933322 0.9614391 0.9999987 0.647083 0.2060225 0.9999993 0.8536029 0.03338693 0.0007738876 0.9999968 0.6793581 0.9999986 0.1299887 0.9737611 0.999944 0.9999918 0.4738464 0.1634588 0.999998 0.9965269 0.9999967 0.2254324 0.002544519 0.8508896 0.9997562 0.9999998 0.1985292 0.9954286 0.999986 0.9998641 0.8900371 0.01734361 0.6692136 0.9996543 0.8700855 0.9997283 0.9999623 0.9999999 0.9998158 0.6708769 0.9999693 0.9233303 0.001758928 0.6815855 0.9990583 0.9998895 0.9998097 0.9952086 0.0004109984 0.9995887 0.3833731 0.9997666 0.04031766 0.781603 0.9999996 0.9922485 0.9776143 0.9999639 0.8585332 0.4314427 0.030869 0.9999999 0.9940777 0.1187146 0.593509 0.9998099 0.004056696 0.01920397 0.9999757 0.1502635 0.0002903785 0.8039886 0.04573403 0.6665608 0.009626603 0.9999979 0.9998458 0.9999994 0.9898708 0.9999915 2.161789e-05 1 5.368642e-07 0.9999999 0.9968422 0.3524936 0.008322809 0.9999988 0.9542487 0.2796348 0.9999997 0.8345176 0.9518173 0.9998043 0.2232408 0.879689 0.9667776 0.999999 0.9999998 \n",
            "total_likelihood:  5.834926e-66 \n",
            "Likelihood: 5.834926e-66 \n"
          ]
        }
      ]
    },
    {
      "cell_type": "markdown",
      "metadata": {
        "id": "gbhobzct5FTT"
      },
      "source": [
        "## 1c)\n",
        "Write an R function that takes as input values for two parameters $θ = (θ_1, θ_2, θ_3)$ and $\\theta^{*}=(\\theta_{1}^{*},\\theta_{2}^{*},\\theta_{3}^{*})$ and computes a function that is\n",
        "equal to\n",
        "$$\n",
        "\\log\\left(\\frac{\\pi(\\theta^{*}\\mid\\mathrm{data})}{\\pi(\\theta\\mid\\mathrm{data})}\\right)\n",
        "$$\n",
        "i.e., the logarithm of the quotient of the posterior densities for $θ*∗$ andθ"
      ]
    },
    {
      "cell_type": "code",
      "execution_count": null,
      "metadata": {
        "vscode": {
          "languageId": "r"
        },
        "id": "8QVUsHMm5FTW"
      },
      "outputs": [],
      "source": [
        "while(TRUE) {\n",
        "  # Code to execute repeatedly\n",
        "}"
      ]
    },
    {
      "cell_type": "markdown",
      "metadata": {
        "id": "T6AN9aW35FTW"
      },
      "source": [
        "## 1d)\n",
        "Implement an MCMC algorithm that generates a Markov chain of length 10000 with limiting distribution equal to the posterior for θ.\n",
        "\n",
        "Use a proposal distribution which adds to each parameter a normally distributed variable with expectation zero and standard deviation 0.4. Find a starting value for the chain by studying what values for θ might be reasonable for the given data.\n",
        "\n",
        "Produce trace plots (plots mapping simulated values for $θ_i$ against its index i) for the parameters $θ_1, θ_2$, and $θ_3$."
      ]
    },
    {
      "cell_type": "markdown",
      "metadata": {
        "id": "uSXViY5P5FTY"
      },
      "source": [
        "## 1e)\n",
        "Compute numerically the predicted probability that an animal at pollutant concentration x = 0.7 and temperature y = 19 will have the disease.\n",
        "\n",
        "Also, compute the predicted probability that among 10 animals exposed to this temperature and this pollutant concentration, 9 will have the disease."
      ]
    },
    {
      "cell_type": "markdown",
      "metadata": {
        "id": "_kvysQ8k5FTb"
      },
      "source": [
        "# Exercise 2: Branching Process\n",
        "Consider a branching process where the offspring distribution is a Poisson distribution with parameter λ = 1.4.\n",
        "\n",
        "![](https://github.com/focccus/MVE550-Stochastic-processes/blob/main/A2/branching_process.png?raw=1)\n",
        "\n",
        "## 2a)\n",
        "Use R to compute the probability that such a process will go extinct."
      ]
    },
    {
      "cell_type": "code",
      "execution_count": null,
      "metadata": {
        "vscode": {
          "languageId": "r"
        },
        "id": "WTzD094z5FTg"
      },
      "outputs": [],
      "source": []
    },
    {
      "cell_type": "markdown",
      "metadata": {
        "id": "ucfgjvJv5FTh"
      },
      "source": [
        "## 2b)\n",
        "Consider the process whose first 5 steps are pictured in Figure 1.\n",
        "Assume its offspring distribution is Poisson(1.4). What is the probability that the continuation of this process will go extinct?"
      ]
    },
    {
      "cell_type": "markdown",
      "metadata": {
        "id": "LDYy1YDA5FTk"
      },
      "source": [
        "## 2c)\n",
        "Now, consider instead a branching process with a Poisson(λ) offspring distribution where λ is unknown. We assume a prior $π(λ) ∝_\\lambda \\frac{1}{\\lambda}$. Assume now that Figure 1 depicts a realization of this process.\n",
        "\n",
        "What is the resulting likelihood for λ? What is the posterior distribution for λ?"
      ]
    },
    {
      "cell_type": "markdown",
      "metadata": {
        "id": "ZPb8Kln05FTl"
      },
      "source": [
        "## 2d)\n",
        "We want to compute the probability of extinction of a branching process of the type of question (c), taking into account the uncertainty in λ. The extinction probability can then be written as an integral of a product of two functions of λ. Write down this integral and compute its value with R using numerical integration."
      ]
    },
    {
      "cell_type": "code",
      "execution_count": null,
      "metadata": {
        "vscode": {
          "languageId": "r"
        },
        "id": "SXu1Zgvb5FTm"
      },
      "outputs": [],
      "source": []
    },
    {
      "cell_type": "markdown",
      "metadata": {
        "id": "bwSH7S5Z5FTn"
      },
      "source": [
        "## 2e)\n",
        "Consider the process in in Figure 1, depicting a realization of a branching process with a Poisson(λ) offspring distribution with unknown λ, as in question (c). Compute the probability that the continuation of this process will go extinct.\n"
      ]
    }
  ],
  "metadata": {
    "kernelspec": {
      "display_name": "R",
      "language": "R",
      "name": "ir"
    },
    "language_info": {
      "codemirror_mode": "r",
      "file_extension": ".r",
      "mimetype": "text/x-r-source",
      "name": "R",
      "pygments_lexer": "r",
      "version": "4.4.2"
    },
    "colab": {
      "provenance": []
    }
  },
  "nbformat": 4,
  "nbformat_minor": 0
}