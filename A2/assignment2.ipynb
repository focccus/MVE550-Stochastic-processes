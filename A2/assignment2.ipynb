{
 "cells": [
  {
   "cell_type": "code",
   "execution_count": 3,
   "metadata": {
    "vscode": {
     "languageId": "r"
    }
   },
   "outputs": [
    {
     "data": {
      "text/html": [
       "<table class=\"dataframe\">\n",
       "<caption>A data.frame: 10 × 3</caption>\n",
       "<thead>\n",
       "\t<tr><th></th><th scope=col>x</th><th scope=col>y</th><th scope=col>z</th></tr>\n",
       "\t<tr><th></th><th scope=col>&lt;dbl&gt;</th><th scope=col>&lt;dbl&gt;</th><th scope=col>&lt;int&gt;</th></tr>\n",
       "</thead>\n",
       "<tbody>\n",
       "\t<tr><th scope=row>1</th><td>1.144</td><td>19.1</td><td>0</td></tr>\n",
       "\t<tr><th scope=row>2</th><td>1.439</td><td>16.5</td><td>1</td></tr>\n",
       "\t<tr><th scope=row>3</th><td>1.260</td><td>23.5</td><td>1</td></tr>\n",
       "\t<tr><th scope=row>4</th><td>0.921</td><td>20.7</td><td>1</td></tr>\n",
       "\t<tr><th scope=row>5</th><td>1.570</td><td>20.0</td><td>1</td></tr>\n",
       "\t<tr><th scope=row>6</th><td>0.446</td><td>18.9</td><td>0</td></tr>\n",
       "\t<tr><th scope=row>7</th><td>0.641</td><td>17.2</td><td>0</td></tr>\n",
       "\t<tr><th scope=row>8</th><td>1.012</td><td>23.4</td><td>1</td></tr>\n",
       "\t<tr><th scope=row>9</th><td>1.626</td><td>18.0</td><td>0</td></tr>\n",
       "\t<tr><th scope=row>10</th><td>1.924</td><td>20.3</td><td>1</td></tr>\n",
       "</tbody>\n",
       "</table>\n"
      ],
      "text/latex": [
       "A data.frame: 10 × 3\n",
       "\\begin{tabular}{r|lll}\n",
       "  & x & y & z\\\\\n",
       "  & <dbl> & <dbl> & <int>\\\\\n",
       "\\hline\n",
       "\t1 & 1.144 & 19.1 & 0\\\\\n",
       "\t2 & 1.439 & 16.5 & 1\\\\\n",
       "\t3 & 1.260 & 23.5 & 1\\\\\n",
       "\t4 & 0.921 & 20.7 & 1\\\\\n",
       "\t5 & 1.570 & 20.0 & 1\\\\\n",
       "\t6 & 0.446 & 18.9 & 0\\\\\n",
       "\t7 & 0.641 & 17.2 & 0\\\\\n",
       "\t8 & 1.012 & 23.4 & 1\\\\\n",
       "\t9 & 1.626 & 18.0 & 0\\\\\n",
       "\t10 & 1.924 & 20.3 & 1\\\\\n",
       "\\end{tabular}\n"
      ],
      "text/markdown": [
       "\n",
       "A data.frame: 10 × 3\n",
       "\n",
       "| <!--/--> | x &lt;dbl&gt; | y &lt;dbl&gt; | z &lt;int&gt; |\n",
       "|---|---|---|---|\n",
       "| 1 | 1.144 | 19.1 | 0 |\n",
       "| 2 | 1.439 | 16.5 | 1 |\n",
       "| 3 | 1.260 | 23.5 | 1 |\n",
       "| 4 | 0.921 | 20.7 | 1 |\n",
       "| 5 | 1.570 | 20.0 | 1 |\n",
       "| 6 | 0.446 | 18.9 | 0 |\n",
       "| 7 | 0.641 | 17.2 | 0 |\n",
       "| 8 | 1.012 | 23.4 | 1 |\n",
       "| 9 | 1.626 | 18.0 | 0 |\n",
       "| 10 | 1.924 | 20.3 | 1 |\n",
       "\n"
      ],
      "text/plain": [
       "   x     y    z\n",
       "1  1.144 19.1 0\n",
       "2  1.439 16.5 1\n",
       "3  1.260 23.5 1\n",
       "4  0.921 20.7 1\n",
       "5  1.570 20.0 1\n",
       "6  0.446 18.9 0\n",
       "7  0.641 17.2 0\n",
       "8  1.012 23.4 1\n",
       "9  1.626 18.0 0\n",
       "10 1.924 20.3 1"
      ]
     },
     "metadata": {},
     "output_type": "display_data"
    }
   ],
   "source": [
    "data = read.table(\"dataAssignment2.txt\",header=TRUE)\n",
    "head(data, 10)"
   ]
  },
  {
   "cell_type": "markdown",
   "metadata": {},
   "source": [
    "## 1a) Visualize the data\n"
   ]
  },
  {
   "cell_type": "code",
   "execution_count": 5,
   "metadata": {
    "vscode": {
     "languageId": "r"
    }
   },
   "outputs": [
    {
     "data": {
      "image/png": "[encoded data removed]",
      "text/plain": [
       "plot without title"
      ]
     },
     "metadata": {
      "image/png": {
       "height": 420,
       "width": 420
      }
     },
     "output_type": "display_data"
    }
   ],
   "source": [
    "plot(data$x, data$y, col=ifelse(data$z, \"red\", \"blue\"))"
   ]
  },
  {
   "cell_type": "markdown",
   "metadata": {},
   "source": [
    "## 1b) What is the likelihood and posterior?\n",
    "Using the model above and the function f , write down the likelihood of the data (i.e., a formula for the probability of the data given the parameters of the model). \n",
    "Also, write down a function that is proportional to the posterior density for the parameters."
   ]
  },
  {
   "cell_type": "markdown",
   "metadata": {},
   "source": [
    "## 1c) \n",
    "Write an R function that takes as input values for two parameters $θ = (θ_1, θ_2, θ_3)$ and $\\theta^{*}=(\\theta_{1}^{*},\\theta_{2}^{*},\\theta_{3}^{*})$ and computes a function that is\n",
    "equal to\n",
    "$$\n",
    "\\log\\left(\\frac{\\pi(\\theta^{*}\\mid\\mathrm{data})}{\\pi(\\theta\\mid\\mathrm{data})}\\right)\n",
    "$$\n",
    "i.e., the logarithm of the quotient of the posterior densities for $θ*∗$ andθ"
   ]
  },
  {
   "cell_type": "code",
   "execution_count": null,
   "metadata": {
    "vscode": {
     "languageId": "r"
    }
   },
   "outputs": [],
   "source": []
  },
  {
   "cell_type": "markdown",
   "metadata": {},
   "source": [
    "## 1d) \n",
    "Implement an MCMC algorithm that generates a Markov chain of length 10000 with limiting distribution equal to the posterior for θ.\n",
    "\n",
    "Use a proposal distribution which adds to each parameter a normally distributed variable with expectation zero and standard deviation 0.4. Find a starting value for the chain by studying what values for θ might be reasonable for the given data. \n",
    "\n",
    "Produce trace plots (plots mapping simulated values for $θ_i$ against its index i) for the parameters $θ_1, θ_2$, and $θ_3$."
   ]
  },
  {
   "cell_type": "markdown",
   "metadata": {},
   "source": [
    "## 1e)\n",
    "Compute numerically the predicted probability that an animal at pollutant concentration x = 0.7 and temperature y = 19 will have the disease. \n",
    "\n",
    "Also, compute the predicted probability that among 10 animals exposed to this temperature and this pollutant concentration, 9 will have the disease."
   ]
  },
  {
   "cell_type": "markdown",
   "metadata": {},
   "source": [
    "# Exercise 2: Branching Process\n",
    "Consider a branching process where the offspring distribution is a Poisson distribution with parameter λ = 1.4.\n",
    "\n",
    "![](branching_process.png)\n",
    "\n",
    "## 2a) \n",
    "Use R to compute the probability that such a process will go extinct."
   ]
  },
  {
   "cell_type": "code",
   "execution_count": null,
   "metadata": {
    "vscode": {
     "languageId": "r"
    }
   },
   "outputs": [],
   "source": []
  },
  {
   "cell_type": "markdown",
   "metadata": {},
   "source": [
    "## 2b) \n",
    "Consider the process whose first 5 steps are pictured in Figure 1.\n",
    "Assume its offspring distribution is Poisson(1.4). What is the probability that the continuation of this process will go extinct?"
   ]
  },
  {
   "cell_type": "markdown",
   "metadata": {},
   "source": [
    "## 2c) \n",
    "Now, consider instead a branching process with a Poisson(λ) offspring distribution where λ is unknown. We assume a prior $π(λ) ∝_\\lambda \\frac{1}{\\lambda}$. Assume now that Figure 1 depicts a realization of this process. \n",
    "\n",
    "What is the resulting likelihood for λ? What is the posterior distribution for λ?"
   ]
  },
  {
   "cell_type": "markdown",
   "metadata": {},
   "source": [
    "## 2d) \n",
    "We want to compute the probability of extinction of a branching process of the type of question (c), taking into account the uncertainty in λ. The extinction probability can then be written as an integral of a product of two functions of λ. Write down this integral and compute its value with R using numerical integration."
   ]
  },
  {
   "cell_type": "code",
   "execution_count": null,
   "metadata": {
    "vscode": {
     "languageId": "r"
    }
   },
   "outputs": [],
   "source": []
  },
  {
   "cell_type": "markdown",
   "metadata": {},
   "source": [
    "## 2e) \n",
    "Consider the process in in Figure 1, depicting a realization of a branching process with a Poisson(λ) offspring distribution with unknown λ, as in question (c). Compute the probability that the continuation of this process will go extinct.\n"
   ]
  }
 ],
 "metadata": {
  "kernelspec": {
   "display_name": "R",
   "language": "R",
   "name": "ir"
  },
  "language_info": {
   "codemirror_mode": "r",
   "file_extension": ".r",
   "mimetype": "text/x-r-source",
   "name": "R",
   "pygments_lexer": "r",
   "version": "4.4.2"
  }
 },
 "nbformat": 4,
 "nbformat_minor": 2
}
