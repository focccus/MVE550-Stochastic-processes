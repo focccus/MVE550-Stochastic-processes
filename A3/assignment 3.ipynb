{
 "cells": [
  {
   "cell_type": "code",
   "execution_count": 8,
   "metadata": {
    "vscode": {
     "languageId": "r"
    }
   },
   "outputs": [
    {
     "name": "stdout",
     "output_type": "stream",
     "text": [
      "     [,1]      [,2] [,3]      [,4]\n",
      "[1,] 0.00 0.2000000  0.4 0.4000000\n",
      "[2,] 0.20 0.0000000  0.4 0.4000000\n",
      "[3,] 0.50 0.3333333  0.0 0.1666667\n",
      "[4,] 0.25 0.2500000  0.5 0.0000000\n"
     ]
    }
   ],
   "source": [
    "# Define alpha parameters for multiple rows\n",
    "alpha_matrix <- matrix(c(0, 1, 2, 2,   # alpha1\n",
    "                         1, 0, 2, 2,   # alpha2\n",
    "                         3, 2, 0, 1,   # alpha3\n",
    "                         1, 1, 2, 0),  # alpha4\n",
    "                       nrow = 4, byrow = TRUE)\n",
    "\n",
    "\n",
    "# Function to compute Dirichlet expectation\n",
    "dirichlet_expectation <- function(alpha_row) {\n",
    "  total_alpha <- sum(alpha_row)\n",
    "  return(alpha_row / total_alpha)\n",
    "}\n",
    "\n",
    "# Calculate the expectations for all rows\n",
    "expectations <- t(apply(alpha_matrix, 1, dirichlet_expectation))\n",
    "\n",
    "# Print the expectations\n",
    "print(expectations)\n"
   ]
  },
  {
   "cell_type": "code",
   "execution_count": null,
   "metadata": {
    "vscode": {
     "languageId": "r"
    }
   },
   "outputs": [],
   "source": [
    "# Define alpha parameters for multiple rows\n",
    "gamma_par_matrix <- matrix(c(0, 1, 2, 2,   # alpha1\n",
    "                         1, 0, 2, 2,   # alpha2\n",
    "                         3, 2, 0, 1,   # alpha3\n",
    "                         1, 1, 2, 0),  # alpha4\n",
    "                       nrow = 4, byrow = TRUE)\n",
    "\n",
    "\n",
    "# Function to compute Dirichlet expectation\n",
    "dirichlet_expectation <- function(alpha_row) {\n",
    "  total_alpha <- sum(alpha_row)\n",
    "  return(alpha_row / total_alpha)\n",
    "}\n",
    "\n",
    "# Calculate the expectations for all rows\n",
    "expectations <- t(apply(alpha_matrix, 1, dirichlet_expectation))\n",
    "\n",
    "# Print the expectations\n",
    "print(expectations)\n"
   ]
  }
 ],
 "metadata": {
  "kernelspec": {
   "display_name": "R",
   "language": "R",
   "name": "ir"
  },
  "language_info": {
   "codemirror_mode": "r",
   "file_extension": ".r",
   "mimetype": "text/x-r-source",
   "name": "R",
   "pygments_lexer": "r",
   "version": "4.4.2"
  }
 },
 "nbformat": 4,
 "nbformat_minor": 2
}
