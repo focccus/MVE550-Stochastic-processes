{
 "cells": [
  {
   "cell_type": "markdown",
   "metadata": {},
   "source": [
    "# MVE550 Assignment 3 \n",
    "\n",
    "**Mahdi Afarideh, Jan Marten Winkler, Fredrik Nyström**"
   ]
  },
  {
   "cell_type": "markdown",
   "metadata": {},
   "source": [
    "![](process.png)"
   ]
  },
  {
   "cell_type": "markdown",
   "metadata": {},
   "source": [
    "## a) Find the posterior for $\\tilde P$. Compute the expectation \n",
    "*The transition matrix  $\\tilde P$ of the embedded chain is unknown, and we will use data from Figure 1 to learn about it. Let $\\tilde P_{1}, \\tilde P_{2}, \\tilde P_{4}$, and $\\tilde P_{4}$ be the four rows of $\\tilde P$. \\\n",
    "Find the posterior given the data in the figure: Express the posterior using parametric distributions with explicit parameters. Compute the expected value of this posterior distribution.*\n",
    "\n",
    "For this task we just look at the embedded discrete chain.\n",
    "We are given 20 observations $x_{0}, \\dots, x_{20}$ in the state space $\\{ 1,2,3,4 \\}$. \n",
    "The likelyhood can be formulated as: \n",
    "\n",
    "$$\n",
    "\\pi(x_{0}, \\dots, x_{20} | \\tilde P) = \\pi(x_{0}) \\prod_{r=1}^{20} \\pi(x_{r} | x_{r-1}, \\tilde P) = \\pi(x_{0}) \\prod_{r=1}^{20} \\tilde P_{x_{r-1}, x_{r}} = \\pi(x_{0}) \\prod_{i=k}^4 \\prod_{j=1}^4 (P_{ij})^{c_{ij}}\n",
    "$$\n",
    "\n",
    "The following values $c_{ij}$ give the count of transition between 2 states $i,j$:\n",
    "\n",
    "| $c_{ij}$ | **1** | **2** | **3** | **4** |\n",
    "| -------- | ----- | ----- | ----- | ----- |\n",
    "| **1**    | 0     | 2     | 0     | 5     |\n",
    "| **2**    | 4     | 0     | 1     | 0     |\n",
    "| **3**    | 0     | 0     | 0     | 1     |\n",
    "| **4**    | 2     | 3     | 0     | 0     |\n",
    "\n",
    "For the rows of $\\tilde P$, we are given the priors: \n",
    "$$\n",
    "\\begin{array}{l l l}{{\\displaystyle\\tilde{P}_{1}}}&{{\\sim}}&{{\\mathrm{Dirichlet}(0,1,1,1)}}\\\\ {{\\tilde{P}_{2}}}&{{\\sim}}&{{\\mathrm{Dirichlet}(1,0,1,1)}}\\\\ {{\\displaystyle\\tilde{P}_{3}}}&{{\\sim}}&{{\\mathrm{Dirichlet}(1,1,0,1)}}\\\\ {{\\displaystyle\\tilde{P}_{4}}}&{{\\sim}}&{{\\mathrm{Dirichlet}(1,1,1,0)}}\\end{array}\n",
    "$$\n",
    "So the Prior for $\\tilde P$ can be formulated as: \n",
    "$$\n",
    "\\pi(\\tilde P) = \\prod_{i=1}^4 \\mathrm{Dirichlet}(\\tilde P_{i}; \\alpha_{i}) \\propto \\prod_{i=1}^4 \\prod_{j=1}^4 (P_{ij})^{\\alpha_{ij} - 1}\n",
    "$$\n",
    "For the posterior we see: \n",
    "\n",
    "$$\n",
    "\\begin{align}\n",
    "\\pi(\\tilde P | x_{0}, \\dots x_{20}) &\\propto \\pi(x_{0}, \\dots, x_{20} | \\tilde P) \\pi(\\tilde P) \\\\\n",
    "&\\propto \\prod_{i=k}^4 \\prod_{j=1}^4 (P_{ij})^{c_{ij}} \\prod_{i=1}^4 \\prod_{j=1}^4 (P_{ij})^{\\alpha_{ij} - 1} \\\\\n",
    "&\\propto \\prod_{i=1}^4 \\prod_{j=1}^4 (P_{ij})^{c_{ij} + \\alpha_{ij} - 1} \n",
    "\\propto \\prod_{i=1}^4 \\mathrm{Dirichlet}( \\tilde P_{i}; \\alpha_{i} + c_{i})\n",
    "\\end{align}\n",
    "$$\n",
    "Thus the posterior is given by the distribution \n",
    "$$\n",
    "\\pi(\\tilde P | x_{0}, \\dots x_{20}) = \\mathrm{Dirichlet}( \\tilde P_{1}; 0, 3, 1, 6) \\mathrm{Dirichlet}( \\tilde P_{2}; 5, 0, 2, 1) \\mathrm{Dirichlet}( \\tilde P_{3}; 1,1,0,2) \\mathrm{Dirichlet}( \\tilde P_{4}; 3,4,1,0)\n",
    "$$\n",
    "The expectation for one entry of a Dirichlet Distribution is given by: \n",
    "$$\n",
    "E[\\tilde P_{ij}] = E[\\mathrm{Dirichlet}( \\tilde P_{i}; \\alpha_{i})_{j}] = \\frac{a_{ij}}{\\sum_{k=1}^4 \\alpha_{ik}}\n",
    "$$"
   ]
  },
  {
   "cell_type": "code",
   "execution_count": 74,
   "metadata": {
    "vscode": {
     "languageId": "r"
    }
   },
   "outputs": [
    {
     "name": "stdout",
     "output_type": "stream",
     "text": [
      "      [,1] [,2]  [,3]  [,4]\n",
      "[1,] 0.000 0.30 0.100 0.600\n",
      "[2,] 0.625 0.00 0.250 0.125\n",
      "[3,] 0.250 0.25 0.000 0.500\n",
      "[4,] 0.375 0.50 0.125 0.000\n"
     ]
    }
   ],
   "source": [
    "# alpha parameters for the prior distributions\n",
    "alpha_prior <- matrix(\n",
    "  c(0, 1, 1, 1,   # alpha1\n",
    "    1, 0, 1, 1,   # alpha2\n",
    "    1, 1, 0, 1,   # alpha3\n",
    "    1, 1, 1, 0),  # alpha4\n",
    "  nrow = 4, byrow = TRUE\n",
    ")\n",
    "\n",
    "transition_counts <- matrix(\n",
    "  c(0, 2, 0, 5,   \n",
    "    4, 0, 1, 0, \n",
    "    0, 0, 0, 1,  \n",
    "    2, 3, 0, 0),\n",
    "  nrow = 4, byrow = TRUE\n",
    ")\n",
    "\n",
    "# Calculate the alpha parameters for the posterior\n",
    "alpha_matrix <- alpha_prior + transition_counts\n",
    "\n",
    "# Function to compute Dirichlet expectation row wise\n",
    "# returns a vector\n",
    "dirichlet_expectation <- function(alpha_row) {\n",
    "  total_alpha <- sum(alpha_row)\n",
    "  return(alpha_row / total_alpha)\n",
    "}\n",
    "\n",
    "# Calculate the expectations for all rows\n",
    "expectations <- t(apply(alpha_matrix, 1, dirichlet_expectation))\n",
    "\n",
    "# Print the expectations\n",
    "print(expectations)\n"
   ]
  },
  {
   "cell_type": "markdown",
   "metadata": {},
   "source": [
    "\n",
    "## b) Obtain a posterior distribution for q. Compute the expected value. \n",
    "*Now assume that the process is a homogeneous Markov chain. Let $q = (q_{1}, q_{2}, q_{3},q_{4})$ be the vector of parameters for the Exponential distributions of the holding times at the four different states, respectively. Assume independent priors for each qi proportional to $1/qi$. \n",
    "Now use the data from the figure to obtain a posterior distribution for q. \n",
    "Express the posterior using parametric distributions with explicit parameters. \n",
    "Compute the expected value of the posterior distribution.*\n",
    "\n",
    "The parameters for the exponential distribution of the holding times are given by $q = (q_{1}, q_{2}, q_{3},q_{4})$. Let the observed holding times for a state be $x_{1}, \\dots x_{n}$, the values are the following:\n",
    "\n",
    "|     | $x_1$ | $x_{2}$ | $x_{3}$ | $x_{4}$ | $x_{5}$ | $x_{6}$ | $x_{7}$ |\n",
    "| --- | ----- | ------- | ------- | ------- | ------- | ------- | ------- |\n",
    "| 1   | 1     | 1       | 1       | 3.4     | 1.5     | 1.2     | 2.5     |\n",
    "| 2   | 1     | 1.1     | 1.8     | 1       | 1.8     | -       | -       |\n",
    "| 3   | 1.1   |         |         |         |         |         |         |\n",
    "| 4   | 1.4   | 1       | 1.8     | 1.5     | 1.7     | 2.2     | -       |\n",
    "\n",
    "The likelyhood for each state indepentently is thus given by the exponential distribution: \n",
    "$$\n",
    "\\pi(x_{1}, \\dots x_{n} | q_{i}) = \\prod_{i=1}^n \\mathrm{Exponential}(x_{j} ; q_{i}) = q_{i}^n \\exp\\left( -q_{i} \\sum_{j=1}^n x_{j} \\right)\n",
    "$$\n",
    "The priors are given by independent $\\pi(q_{i}) = \\frac{1}{q_{i}}$. \n",
    "For the posteriors we thus get indepentently: \n",
    "$$\n",
    "\\pi(q_{i} | x_{1}, \\dots x_{n}) \\propto \\pi(x_{1}, \\dots x_{n} | q_{i}) \\pi(q_{i}) = q_{i}^{n-1} \\exp\\left( -q_{i} \\sum_{j=1}^n x_{j} \\right) \\propto \\mathrm{Gamma}(q_{i}, n, \\sum_{j=1}^n x_{j} )\n",
    "$$\n",
    "$$\n",
    "\\begin{align}\n",
    "q_1 &\\sim \\text{Gamma}(7, 11.6) \\\\\n",
    "q_2 &\\sim \\text{Gamma}(5, 6.7) \\\\  \n",
    "q_3 &\\sim \\text{Gamma}(1, 1.1) \\\\ \n",
    "q_4 &\\sim \\text{Gamma}(6, 9.6) \\\\\n",
    "\\end{align}\n",
    "$$\n",
    "The expectation of a Gamma Distribution is: $E[X] = \\frac{\\alpha}{\\beta}$, so we get the expected rates:\n",
    "1"
   ]
  },
  {
   "cell_type": "code",
   "execution_count": 4,
   "metadata": {
    "vscode": {
     "languageId": "r"
    }
   },
   "outputs": [
    {
     "name": "stdout",
     "output_type": "stream",
     "text": [
      "[1] 29\n"
     ]
    }
   ],
   "source": [
    "# Calculate holding times for each state\n",
    "time_s1 <- c(1, 1, 1, 3.4, 1.5, 1.2, 2.5)\n",
    "sum_time_s1 <- sum(time_s1)\n",
    "len_time_s1 <- length(time_s1)\n",
    "\n",
    "time_s2 <- c(1, 1.1, 1.8, 1, 1.8)\n",
    "sum_time_s2 <- sum(time_s2)\n",
    "len_time_s2 <- length(time_s2)\n",
    "\n",
    "time_s3 <- c(1.1)\n",
    "sum_time_s3 <- sum(time_s3)\n",
    "len_time_s3 <- length(time_s3)\n",
    "\n",
    "time_s4 <- c(1.4, 1, 1.8, 1.5, 1.7, 2.2)\n",
    "sum_time_s4 <- sum(time_s4)\n",
    "len_time_s4 <- length(time_s4)\n",
    "\n",
    "print(sum_time_s1 + sum_time_s2 + sum_time_s3 + sum_time_s4)"
   ]
  },
  {
   "cell_type": "markdown",
   "metadata": {},
   "source": [
    "## b) Obtain a posterior distribution for q. Compute the expected value. \n",
    "*Now assume that the process is a homogeneous Markov chain. Let $q = (q_{1}, q_{2}, q_{3},q_{4})$ be the vector of parameters for the Exponential distributions of the holding times at the four different states, respectively. Assume independent priors for each qi proportional to $1/qi$. \n",
    "Now use the data from the figure to obtain a posterior distribution for q. \n",
    "Express the posterior using parametric distributions with explicit parameters. \n",
    "Compute the expected value of the posterior distribution.*\n",
    "\n",
    "The parameters for the exponential distribution of the holding times are given by $q = (q_{1}, q_{2}, q_{3},q_{4})$. Let the observed holding times for a state be $x_{1}, \\dots x_{n}$, the values are the following:\n",
    "\n",
    "|     | $x_1$ | $x_{2}$ | $x_{3}$ | $x_{4}$ | $x_{5}$ | $x_{6}$ | $x_{7}$ |\n",
    "| --- | ----- | ------- | ------- | ------- | ------- | ------- | ------- |\n",
    "| 1   | 1     | 1       | 1       | 3.4     | 1.5     | 1.2     | 2.5     |\n",
    "| 2   | 1     | 1.1     | 1.8     | 1       | 1.8     | -       | -       |\n",
    "| 3   | 1.1   |         |         |         |         |         |         |\n",
    "| 4   | 1.4   | 1       | 1.8     | 1.5     | 1.7     | 2.2     | -       |\n",
    "\n",
    "\n",
    "The likelyhood for each state indepentently is thus given by the exponential distribution: \n",
    "$$\n",
    "\\pi(x_{1}, \\dots x_{n} | q_{i}) = \\prod_{i=1}^n \\mathrm{Exponential}(x_{j} ; q_{i}) = q_{i}^n \\exp\\left( -q_{i} \\sum_{j=1}^n x_{j} \\right)\n",
    "$$\n",
    "The priors are given by independent $\\pi(q_{i}) = \\frac{1}{q_{i}}$. \n",
    "For the posteriors we thus get indepentently: \n",
    "$$\n",
    "\\pi(q_{i} | x_{1}, \\dots x_{n}) \\propto \\pi(x_{1}, \\dots x_{n} | q_{i}) \\pi(q_{i}) = q_{i}^{n-1} \\exp\\left( -q_{i} \\sum_{j=1}^n x_{j} \\right) \\propto \\mathrm{Gamma}(q_{i}, n, \\sum_{j=1}^n x_{j} )\n",
    "$$\n",
    "$$\n",
    "\\begin{align}\n",
    "q_1 &\\sim \\text{Gamma}(7, 11.6) \\\\\n",
    "q_2 &\\sim \\text{Gamma}(5, 6.7) \\\\  \n",
    "q_3 &\\sim \\text{Gamma}(1, 1.1) \\\\ \n",
    "q_4 &\\sim \\text{Gamma}(6, 9.6) \\\\\n",
    "\\end{align}\n",
    "$$\n",
    "The expectation of a Gamma Distribution is: $E[X] = \\frac{\\alpha}{\\beta}$, so we get the expected rates:"
   ]
  },
  {
   "cell_type": "code",
   "execution_count": 5,
   "metadata": {
    "vscode": {
     "languageId": "r"
    }
   },
   "outputs": [
    {
     "data": {
      "text/html": [
       "<style>\n",
       ".list-inline {list-style: none; margin:0; padding: 0}\n",
       ".list-inline>li {display: inline-block}\n",
       ".list-inline>li:not(:last-child)::after {content: \"\\00b7\"; padding: 0 .5ex}\n",
       "</style>\n",
       "<ol class=list-inline><li>0.603448275862069</li><li>0.746268656716418</li><li>0.909090909090909</li><li>0.625</li></ol>\n"
      ],
      "text/latex": [
       "\\begin{enumerate*}\n",
       "\\item 0.603448275862069\n",
       "\\item 0.746268656716418\n",
       "\\item 0.909090909090909\n",
       "\\item 0.625\n",
       "\\end{enumerate*}\n"
      ],
      "text/markdown": [
       "1. 0.603448275862069\n",
       "2. 0.746268656716418\n",
       "3. 0.909090909090909\n",
       "4. 0.625\n",
       "\n",
       "\n"
      ],
      "text/plain": [
       "[1] 0.6034483 0.7462687 0.9090909 0.6250000"
      ]
     },
     "metadata": {},
     "output_type": "display_data"
    }
   ],
   "source": [
    "number_visited <- c(7, 5, 1, 6)\n",
    "holding_times <- c(11.6, 6.7, 1.1, 9.6)\n",
    "\n",
    "q <- number_visited / holding_times\n",
    "q"
   ]
  },
  {
   "cell_type": "markdown",
   "metadata": {},
   "source": [
    "## c) \n",
    "*Write R code which takes as input the transition matrix $\\tilde P$ of a continuous-time discrete state-space Markov chain and a vector $q$ of parameters for the distributions of the holding times of the chain, and outputs the long-term  probability that the process will be in state 3. Apply the code to the expected values found in questions (a) and (b) and report the result.*\n",
    "\n",
    "As we visit all states, we can assume the markov chain is irreducable. We want to find the limiting distribution $\\pi$. For irreducable chains the unique limiting distribution is given by the stationary distribution, which we can find by solving $\\pi Q = 0$:"
   ]
  },
  {
   "cell_type": "code",
   "execution_count": 13,
   "metadata": {
    "vscode": {
     "languageId": "r"
    }
   },
   "outputs": [
    {
     "name": "stdout",
     "output_type": "stream",
     "text": [
      "The long term probability for state 3 is given by: 0.1216313"
     ]
    }
   ],
   "source": [
    "stationary_distribution <- function(P, q) {\n",
    "  Q0 <- P*matrix(q, 4, 4)\n",
    "  Q  <- Q0 - diag(q)\n",
    "\n",
    "  # find pQ=0\n",
    "  Q2 <- Q\n",
    "  Q2[,1] <- 1\n",
    "  # Right-hand side: zeros for pQ=0, and 1 for sum=1\n",
    "  result <- c(1, 0, 0, 0)%*%solve(Q2)     \n",
    "\n",
    "  return(result)\n",
    "}\n",
    "\n",
    "dist <- stationary_distribution(expectations, q)\n",
    "cat(\"The long term probability for state 3 is given by:\", dist[3])"
   ]
  },
  {
   "cell_type": "markdown",
   "metadata": {},
   "source": [
    "## d)\n",
    "*Use simulation in R and your results from questions (a), (b), and (c) to answer the following question: Taking into account the parameter uncertainty, what is the long-term probability that the process in the Figure is in state 3?* "
   ]
  },
  {
   "cell_type": "code",
   "execution_count": 7,
   "metadata": {
    "vscode": {
     "languageId": "r"
    }
   },
   "outputs": [
    {
     "name": "stdout",
     "output_type": "stream",
     "text": [
      "package 'LearnBayes' successfully unpacked and MD5 sums checked\n",
      "\n",
      "The downloaded binary packages are in\n",
      "\tC:\\Users\\Marten\\AppData\\Local\\Temp\\RtmpmgKvuL\\downloaded_packages\n"
     ]
    }
   ],
   "source": [
    "install.packages(\"LearnBayes\")"
   ]
  },
  {
   "cell_type": "code",
   "execution_count": 14,
   "metadata": {
    "vscode": {
     "languageId": "r"
    }
   },
   "outputs": [
    {
     "name": "stdout",
     "output_type": "stream",
     "text": [
      "The long term probability for state 3 is given by: 0.301053"
     ]
    }
   ],
   "source": [
    "library(LearnBayes)\n",
    "\n",
    "# store the average distribution\n",
    "dists <- c(0,0,0,0)\n",
    "n <- 1000\n",
    "\n",
    "# sample a matrix P given some alpha values from dirichlet\n",
    "sample_P<- function(alpha_matrix){\n",
    "  P <- apply(alpha_matrix, 1, function(alpha_row){\n",
    "      rdirichlet(1, alpha_row)\n",
    "  })\n",
    "  return(P)\n",
    "}\n",
    "\n",
    "# sample the q vector from the gamma distribution\n",
    "sample_q <-function(number_visited,holding_times){\n",
    "  q1 <- rgamma(1,number_visited[1], holding_times[1])\n",
    "  q2 <- rgamma(1,number_visited[2], holding_times[2])\n",
    "  q3 <- rgamma(1,number_visited[3], holding_times[3])\n",
    "  q4 <- rgamma(1,number_visited[4], holding_times[4])\n",
    "  q <- c(q1, q2, q3, q4)\n",
    "  return(q)\n",
    "}\n",
    "\n",
    "for (i in 1:n){\n",
    "  # sample P and q\n",
    "  P <- sample_P(alpha_matrix)\n",
    "  q <- sample_q(number_visited,holding_times)\n",
    "  sim <- stationary_distribution(P, q)\n",
    "  dists <-  dists + sim\n",
    "}\n",
    "\n",
    "# calculate the mean\n",
    "dist <- dists/n\n",
    "\n",
    "cat(\"The long term probability for state 3 is given by:\", dist[3])\n"
   ]
  },
  {
   "cell_type": "markdown",
   "metadata": {},
   "source": [
    "## e) \n",
    "*Implement simulation of a realization of the process over 30 steps. (You may if you like re-use and adapt code from Lecture 12). You should implement two versions of simulation*\n",
    "- *Draw values for  $\\tilde P$ and $q$ from their posteriors, and use these values when simulating all the steps of the process.* \n",
    "- *Simulate only one transition or one duration at the time, and update posteriors with simulated values before going to the next step.*\n",
    "\n"
   ]
  },
  {
   "cell_type": "code",
   "execution_count": 75,
   "metadata": {
    "vscode": {
     "languageId": "r"
    }
   },
   "outputs": [
    {
     "data": {
      "image/png": "[encoded data removed]",
      "text/plain": [
       "plot without title"
      ]
     },
     "metadata": {
      "image/png": {
       "height": 420,
       "width": 420
      }
     },
     "output_type": "display_data"
    }
   ],
   "source": [
    "# Ptilde <- matrix(c(0, 3/4, 1/4, \n",
    "#                    1/2, 0, 1/2, \n",
    "#                    1/5, 4/5, 0), 3, 3, byrow=T)\n",
    "# # Rates for leaving states (example): \n",
    "# q <- c(2, 1, 0.5)\n",
    "\n",
    "############ A simulation from such a Markov chain\n",
    "############ assuming it starts at 2:\n",
    "P <- sample_P(alpha_matrix)\n",
    "q <- sample_q(number_visited,holding_times) \n",
    "N <- 30\n",
    "states <- rep(0, N)\n",
    "states[1] <- 4\n",
    "\n",
    "for (i in 2:N) \n",
    "  states[i] <- sample(1:4, 1, prob = P[states[i-1],])\n",
    "\n",
    "waits <- rexp(N, q[states])\n",
    "times <- cumsum(waits)\n",
    "\n",
    "# To plot the simulation as a step function:  \n",
    "par(bg = \"white\")  # Adjust the width and height\n",
    "x <- y <- rep(0, 2 * N)\n",
    "y[2 * (1:N) - 1] <- states\n",
    "y[2 * (1:N)] <- states\n",
    "x[2 * (1:N)] <- times\n",
    "x[2 * (2:N) - 1] <- times[-N]\n",
    "plot(x, y, type = \"l\", xlab = \"Time\", ylab = \"State\", yaxt = \"n\")\n",
    "axis(2, at = 1:4)\n"
   ]
  },
  {
   "cell_type": "code",
   "execution_count": 72,
   "metadata": {
    "vscode": {
     "languageId": "r"
    }
   },
   "outputs": [
    {
     "data": {
      "image/png": "[encoded data removed]",
      "text/plain": [
       "plot without title"
      ]
     },
     "metadata": {
      "image/png": {
       "height": 420,
       "width": 420
      }
     },
     "output_type": "display_data"
    }
   ],
   "source": [
    "P <- sample_P(alpha_matrix)\n",
    "N <- 30\n",
    "states <- rep(0, N)\n",
    "states[1] <- 4\n",
    "\n",
    "for (i in 2:N) \n",
    "  states[i] <- sample(1:4, 1, prob = P[states[i-1],])\n",
    "  alpha_matrix[states[i]-1, states[i]] <- alpha_matrix[2, states[i]] + 1\n",
    "  q <- sample_q(number_visited,holding_times)\n",
    "  number_visited[states[i]]<-number_visited[states[i]]+1\n",
    "  wait <- rexp(1, q[states[i]])\n",
    "  holding_times[states[i-1]]<-holding_times[states[i-1]]+wait\n",
    "  waits[i]<-wait\n",
    "\n",
    "# To plot the simulation as a step function: \n",
    "times <- cumsum(waits)\n",
    "par(bg = \"white\")  # Adjust the width and height\n",
    "x <- y <- rep(0, 2 * N)\n",
    "y[2 * (1:N) - 1] <- states\n",
    "y[2 * (1:N)] <- states\n",
    "x[2 * (1:N)] <- times\n",
    "x[2 * (2:N) - 1] <- times[-N]\n",
    "plot(x, y, type = \"l\", xlab = \"Time\", ylab = \"State\", yaxt = \"n\")\n",
    "axis(2, at = 1:4)\n"
   ]
  },
  {
   "cell_type": "markdown",
   "metadata": {},
   "source": [
    "## f)\n",
    "*Find the formula for the probability that $k$ independent random variables with $\\mathrm{Exponential}(λ)$ distributions are all at least $1$. Then, compute analytically the expectation of this formula when $\\lambda$ has a $\\mathrm{Gamma}(α, β)$ distribution.*"
   ]
  },
  {
   "cell_type": "markdown",
   "metadata": {},
   "source": [
    "#### Probability that $ k $ independent $ \\text{Exponential}(\\lambda) $ random variables are all at least 1\n",
    "\n",
    "$$ P(X_i \\geq 1) = 1 - P(X_i \\lt 1) = 1 - F_{X_i}(1)$$\n",
    "\n",
    "where $F_{X_i}(1)$ is the CDF. The CDF for the $Exponential(\\lambda)$ is:\n",
    "\n",
    "$F_{X_i}(x) = 1 - e^{-\\lambda x}$\n",
    "\n",
    "so $ P(X_i \\geq 1) = 1 - (1-e^{-\\lambda*1}) = e^{-\\lambda}$\n",
    "\n",
    "Since the random variables are independent the joined probability is the product of individual probabilities.\n",
    "\n",
    "$$ P(X_1 \\geq 1, X_2 \\geq 1, ... X_k \\geq 1) = \\prod_{i=1}^k P(X_i \\geq 1) = e^{-k\\lambda}$$\n",
    "\n",
    "$$\\mathbb{E}[e^{-k\\lambda}] \\quad \\text{when } \\lambda \\sim \\text{Gamma}(\\alpha, \\beta)$$\n",
    "\n",
    "\n",
    "Since the $ k $ random variables are independent, the joint probability is:\n",
    "\n",
    "$\n",
    "P(X_1 \\geq 1, X_2 \\geq 1, \\dots, X_k \\geq 1) = \\prod_{i=1}^k P(X_i \\geq 1) = (e^{-\\lambda})^k = e^{-k\\lambda}\n",
    "$\n",
    "\n",
    "#### Expectation $ E[e^{-k\\lambda}]$ when $ \\lambda \\sim \\text{Gamma}(\\alpha, \\beta) $\n",
    "\n",
    "For $ \\lambda \\sim \\text{Gamma}(\\alpha, \\beta) $ PDF is:\n",
    "\n",
    "$$ f_\\lambda(\\lambda) = \\frac{\\beta^\\alpha}{\\Gamma(\\alpha)} \\lambda^{\\alpha - 1} e^{-\\beta \\lambda}, \\quad \\lambda > 0$$\n",
    "\n",
    "then we get\n",
    "\n",
    "$$ E[e^{-k\\lambda}] = \\int_{0}^{\\infty} e^{-k\\lambda} f_\\lambda(\\lambda) \\, d\\lambda = \\frac{\\beta^\\alpha}{\\Gamma(\\alpha)} \\int_{0}^{\\infty} \\lambda^{\\alpha - 1} e^{-(k+\\beta) \\lambda} \\, d\\lambda$$\n",
    "Since this is the Gamma density then it integrates to 1 so it can be rewritten:\n",
    "$$\n",
    "\\frac{\\beta^\\alpha}{\\Gamma(\\alpha)} \\frac{(k+\\beta)^\\alpha}{\\Gamma(\\alpha)} \\frac{\\Gamma(\\alpha)}{(k+\\beta)^\\alpha} \\int_{0}^{\\infty} \\lambda^{\\alpha - 1} e^{-(k+\\beta) \\lambda} \\, d\\lambda  = \\frac{\\Gamma(\\alpha)}{(k+\\beta)^\\alpha}\n",
    "$$\n",
    "\n",
    "Leading to \n",
    "\n",
    "$$ E[e^{-k\\lambda}] = \\frac{\\beta^\\alpha}{\\Gamma(\\alpha)} * \\frac{\\Gamma(\\alpha)}{(k+\\beta)^\\alpha} = (\\frac{\\beta}{k+\\beta})^\\alpha $$"
   ]
  },
  {
   "cell_type": "markdown",
   "metadata": {},
   "source": [
    "g) Note that in the Figure, all visits to state 1 are at least 1 long. Use your\n",
    "result in (f) to compute the probability, under our assumptions so far, that\n",
    "this happens. If this were a real, applied setting, what kind of conclusions\n",
    "might be drawn from this computation?"
   ]
  },
  {
   "cell_type": "code",
   "execution_count": 103,
   "metadata": {
    "vscode": {
     "languageId": "r"
    }
   },
   "outputs": [
    {
     "data": {
      "text/html": [
       "0.0366957116967851"
      ],
      "text/latex": [
       "0.0366957116967851"
      ],
      "text/markdown": [
       "0.0366957116967851"
      ],
      "text/plain": [
       "[1] 0.03669571"
      ]
     },
     "metadata": {},
     "output_type": "display_data"
    }
   ],
   "source": [
    "# Expected probability\n",
    "k <- 7\n",
    "alpha <- 7\n",
    "beta <- 11.6\n",
    "\n",
    "prob <- (beta/(k + beta))^alpha\n",
    "prob"
   ]
  },
  {
   "cell_type": "code",
   "execution_count": 102,
   "metadata": {
    "vscode": {
     "languageId": "r"
    }
   },
   "outputs": [
    {
     "data": {
      "text/html": [
       "0.0367303371612763"
      ],
      "text/latex": [
       "0.0367303371612763"
      ],
      "text/markdown": [
       "0.0367303371612763"
      ],
      "text/plain": [
       "[1] 0.03673034"
      ]
     },
     "metadata": {},
     "output_type": "display_data"
    }
   ],
   "source": [
    "# Visiting state 1 seven times in the figure\n",
    "k <- 7\n",
    "alpha <- 7\n",
    "beta <- 11.6\n",
    "n_samples = 100000\n",
    "lambdas <- rgamma(n_samples, alpha, beta)\n",
    "\n",
    "probs <- exp(-k*lambdas)\n",
    "mean(probs)"
   ]
  },
  {
   "cell_type": "markdown",
   "metadata": {},
   "source": [
    "Since the probability is around 3.7% its quite unlikely that we will stay in state 1 for equal or longer than 1 second, which is suprising because if we naivly look at the average staying time in state 1, it is bigger than one second."
   ]
  }
 ],
 "metadata": {
  "kernelspec": {
   "display_name": "R",
   "language": "R",
   "name": "ir"
  },
  "language_info": {
   "codemirror_mode": "r",
   "file_extension": ".r",
   "mimetype": "text/x-r-source",
   "name": "R",
   "pygments_lexer": "r",
   "version": "4.4.2"
  }
 },
 "nbformat": 4,
 "nbformat_minor": 2
}
