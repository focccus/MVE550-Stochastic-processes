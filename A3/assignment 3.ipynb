{
 "cells": [
  {
   "cell_type": "markdown",
   "metadata": {},
   "source": [
    "## a) Find the posterior for $\\tilde P$. Compute the expectation \n",
    "*The transition matrix  $\\tilde P$ of the embedded chain is unknown, and we will use data from Figure 1 to learn about it. Let $\\tilde P_{1}, \\tilde P_{2}, \\tilde P_{4}$, and $\\tilde P_{4}$ be the four rows of $\\tilde P$. \\\n",
    "Find the posterior given the data in the figure: Express the posterior using parametric distributions with explicit parameters. Compute the expected value of this posterior distribution.*\n",
    "\n",
    "For this task we just look at the embedded discrete chain.\n",
    "We are given 20 observations $x_{0}, \\dots, x_{20}$ in the state space $\\{ 1,2,3,4 \\}$. \n",
    "The likelyhood can be formulated as: \n",
    "\n",
    "$$\n",
    "\\pi(x_{0}, \\dots, x_{20} | \\tilde P) = \\pi(x_{0}) \\prod_{r=1}^{20} \\pi(x_{r} | x_{r-1}, \\tilde P) = \\pi(x_{0}) \\prod_{r=1}^{20} \\tilde P_{x_{r-1}, x_{r}} = \\pi(x_{0}) \\prod_{i=k}^4 \\prod_{j=1}^4 (P_{ij})^{c_{ij}}\n",
    "$$\n",
    "\n",
    "The following values $c_{ij}$ give the count of transition between 2 states $i,j$:\n",
    "\n",
    "| $c_{ij}$ | **1** | **2** | **3** | **4** |\n",
    "| -------- | ----- | ----- | ----- | ----- |\n",
    "| **1**    | 0     | 2     | 0     | 5     |\n",
    "| **2**    | 4     | 0     | 1     | 0     |\n",
    "| **3**    | 0     | 0     | 0     | 1     |\n",
    "| **4**    | 2     | 3     | 0     | 0     |\n",
    "\n",
    "For the rows of $\\tilde P$, we are given the priors: \n",
    "$$\n",
    "\\begin{array}{l l l}{{\\displaystyle\\tilde{P}_{1}}}&{{\\sim}}&{{\\mathrm{Dirichlet}(0,1,1,1)}}\\\\ {{\\tilde{P}_{2}}}&{{\\sim}}&{{\\mathrm{Dirichlet}(1,0,1,1)}}\\\\ {{\\displaystyle\\tilde{P}_{3}}}&{{\\sim}}&{{\\mathrm{Dirichlet}(1,1,0,1)}}\\\\ {{\\displaystyle\\tilde{P}_{4}}}&{{\\sim}}&{{\\mathrm{Dirichlet}(1,1,1,0)}}\\end{array}\n",
    "$$\n",
    "So the Prior for $\\tilde P$ can be formulated as: \n",
    "$$\n",
    "\\pi(\\tilde P) = \\prod_{i=1}^4 \\mathrm{Dirichlet}(\\tilde P_{i}; \\alpha_{i}) \\propto \\prod_{i=1}^4 \\prod_{j=1}^4 (P_{ij})^{\\alpha_{ij} - 1}\n",
    "$$\n",
    "So for the posterior we see: \n",
    "\n",
    "$$\n",
    "\\begin{align}\n",
    "\\pi(\\tilde P | x_{0}, \\dots x_{20}) &\\propto \\pi(x_{0}, \\dots, x_{20} | \\tilde P) \\pi(\\tilde P) \\\\\n",
    "&\\propto \\prod_{i=k}^4 \\prod_{j=1}^4 (P_{ij})^{c_{ij}} \\prod_{i=1}^4 \\prod_{j=1}^4 (P_{ij})^{\\alpha_{ij} - 1} \\\\\n",
    "&\\propto \\prod_{i=1}^4 \\prod_{j=1}^4 (P_{ij})^{c_{ij} + \\alpha_{ij} - 1} \n",
    "\\propto \\prod_{i=1}^4 \\mathrm{Dirichlet}( \\tilde P_{i}; \\alpha_{i} + c_{i})\n",
    "\\end{align}\n",
    "$$\n",
    "Thus the posterior is given by the distribution \n",
    "$$\n",
    "\\pi(\\tilde P | x_{0}, \\dots x_{20}) = \\mathrm{Dirichlet}( \\tilde P_{1}; 0, 3, 1, 6) \\mathrm{Dirichlet}( \\tilde P_{2}; 5, 0, 2, 1) \\mathrm{Dirichlet}( \\tilde P_{3}; 1,1,0,2) \\mathrm{Dirichlet}( \\tilde P_{4}; 3,4,1,0)\n",
    "$$\n",
    "The expectation for one entry of a Dirichlet Distribution is given by: \n",
    "$$\n",
    "E[\\tilde P_{ij}] = E[\\mathrm{Dirichlet}( \\tilde P_{i}; \\alpha_{i})_{j}] = \\frac{a_{ij}}{\\sum_{k=1}^4 \\alpha_{ik}}\n",
    "$$"
   ]
  },
  {
   "cell_type": "code",
   "execution_count": 21,
   "metadata": {
    "vscode": {
     "languageId": "r"
    }
   },
   "outputs": [
    {
     "name": "stdout",
     "output_type": "stream",
     "text": [
      "[1] 29\n"
     ]
    }
   ],
   "source": [
    "time_s1 <- c(1, 1, 1, 3.4, 1.5, 1.2, 2.5)\n",
    "sum_time_s1 <- sum(time_s1)\n",
    "len_time_s1 <- length(time_s1)\n",
    "\n",
    "time_s2 <- c(1, 1.1, 1.8, 1, 1.8)\n",
    "sum_time_s2 <- sum(time_s2)\n",
    "len_time_s2 <- length(time_s2)\n",
    "\n",
    "time_s3 <- c(1.1)\n",
    "sum_time_s3 <- sum(time_s3)\n",
    "len_time_s3 <- length(time_s3)\n",
    "\n",
    "time_s4 <- c(1.4, 1, 1.8, 1.5, 1.7, 2.2)\n",
    "sum_time_s4 <- sum(time_s4)\n",
    "len_time_s4 <- length(time_s4)\n",
    "\n",
    "print(sum_time_s1 + sum_time_s2 + sum_time_s3 + sum_time_s4)"
   ]
  },
  {
   "cell_type": "code",
   "execution_count": 20,
   "metadata": {
    "vscode": {
     "languageId": "r"
    }
   },
   "outputs": [
    {
     "data": {
      "text/html": [
       "<ol>\n",
       "\t<li>NULL</li>\n",
       "\t<li>NULL</li>\n",
       "\t<li>NULL</li>\n",
       "\t<li>NULL</li>\n",
       "</ol>\n"
      ],
      "text/latex": [
       "\\begin{enumerate}\n",
       "\\item NULL\n",
       "\\item NULL\n",
       "\\item NULL\n",
       "\\item NULL\n",
       "\\end{enumerate}\n"
      ],
      "text/markdown": [
       "1. NULL\n",
       "2. NULL\n",
       "3. NULL\n",
       "4. NULL\n",
       "\n",
       "\n"
      ],
      "text/plain": [
       "[[1]]\n",
       "NULL\n",
       "\n",
       "[[2]]\n",
       "NULL\n",
       "\n",
       "[[3]]\n",
       "NULL\n",
       "\n",
       "[[4]]\n",
       "NULL\n"
      ]
     },
     "metadata": {},
     "output_type": "display_data"
    }
   ],
   "source": [
    "time_seq=c(0,1,2.4,3.4,4.4,5.4,6.4,7.5,10.9,12.7,14.5,16,17.5,18.5,19.6,21.3,22.5,24.3,26.8,29)\n",
    "state_seq=c(1,4,1,4,2,1,2,1,4,2,1,4,2,3,4,1,2,1,4)\n",
    "\n",
    "holding_times = list(c(), c(), c(), c())\n",
    "for(i in seq_along(state_seq)) {\n",
    "  append(holding_times[state_seq[i]], time_seq[i+1] -  time_seq[i])\n",
    "}\n",
    "holding_times"
   ]
  },
  {
   "cell_type": "code",
   "execution_count": 7,
   "metadata": {
    "vscode": {
     "languageId": "r"
    }
   },
   "outputs": [
    {
     "name": "stdout",
     "output_type": "stream",
     "text": [
      "      [,1] [,2]  [,3]  [,4]\n",
      "[1,] 0.000 0.30 0.100 0.600\n",
      "[2,] 0.625 0.00 0.250 0.125\n",
      "[3,] 0.250 0.25 0.000 0.500\n",
      "[4,] 0.375 0.50 0.125 0.000\n"
     ]
    }
   ],
   "source": [
    "# alpha parameters for the prior distributions\n",
    "alpha_prior <- matrix(\n",
    "  c(0, 1, 1, 1,   # alpha1\n",
    "    1, 0, 1, 1,   # alpha2\n",
    "    1, 1, 0, 1,   # alpha3\n",
    "    1, 1, 1, 0),  # alpha4\n",
    "  nrow = 4, byrow = TRUE\n",
    ")\n",
    "\n",
    "transition_counts <- matrix(\n",
    "  c(0, 2, 0, 5,   # alpha1\n",
    "    4, 0, 1, 0,   # alpha2\n",
    "    0, 0, 0, 1,   # alpha3\n",
    "    2, 3, 0, 0),  # alpha4\n",
    "  nrow = 4, byrow = TRUE\n",
    ")\n",
    "\n",
    "# Calculate the alpha parameters for the posterior\n",
    "alpha_matrix <- alpha_prior + transition_counts\n",
    "\n",
    "# Function to compute Dirichlet expectation\n",
    "# returns a vector\n",
    "dirichlet_expectation <- function(alpha_row) {\n",
    "  total_alpha <- sum(alpha_row)\n",
    "  return(alpha_row / total_alpha)\n",
    "}\n",
    "\n",
    "# Calculate the expectations for all rows\n",
    "expectations <- t(apply(alpha_matrix, 1, dirichlet_expectation))\n",
    "\n",
    "# Print the expectations\n",
    "print(expectations)\n"
   ]
  },
  {
   "cell_type": "markdown",
   "metadata": {},
   "source": [
    "\n",
    "## b) Obtain a posterior distribution for q. Compute the expected value. \n",
    "*Now assume that the process is a homogeneous Markov chain. Let $q = (q_{1}, q_{2}, q_{3},q_{4})$ be the vector of parameters for the Exponential distributions of the holding times at the four different states, respectively. Assume independent priors for each qi proportional to $1/qi$. \n",
    "Now use the data from the figure to obtain a posterior distribution for q. \n",
    "Express the posterior using parametric distributions with explicit parameters. \n",
    "Compute the expected value of the posterior distribution.*\n",
    "\n",
    "The parameters for the exponential distribution of the holding times are given by $q = (q_{1}, q_{2}, q_{3},q_{4})$. Let the observed holding times for a state be $x_{1}, \\dots x_{n}$, the values are the following:\n",
    "\n",
    "|     | $x_1$ | $x_{2}$ | $x_{3}$ | $x_{4}$ | $x_{5}$ | $x_{6}$ | $x_{7}$ |\n",
    "| --- | ----- | ------- | ------- | ------- | ------- | ------- | ------- |\n",
    "| 1   | 1     | 1       | 1       | 3.4     | 1.5     | 1.2     | 2.5     |\n",
    "| 2   | 1     | 1.1     | 1.8     | 1       | 1.8     | -       | -       |\n",
    "| 3   | 1.1   |         |         |         |         |         |         |\n",
    "| 4   | 1.4   | 1       | 1.8     | 1.5     | 1.7     | 2.2     | -       |\n",
    "\n",
    "The likelyhood for each state indepentently is thus given by the exponential distribution: \n",
    "$$\n",
    "\\pi(x_{1}, \\dots x_{n} | q_{i}) = \\prod_{i=1}^n \\mathrm{Exponential}(x_{j} ; q_{i}) = q_{i}^n \\exp\\left( -q_{i} \\sum_{j=1}^n x_{j} \\right)\n",
    "$$\n",
    "The priors are given by independent $\\pi(q_{i}) = \\frac{1}{q_{i}}$. \n",
    "For the posteriors we thus get indepentently: \n",
    "$$\n",
    "\\pi(q_{i} | x_{1}, \\dots x_{n}) \\propto \\pi(x_{1}, \\dots x_{n} | q_{i}) \\pi(q_{i}) = q_{i}^{n-1} \\exp\\left( -q_{i} \\sum_{j=1}^n x_{j} \\right) \\propto \\mathrm{Gamma}(q_{i}, n, \\sum_{j=1}^n x_{j} )\n",
    "$$\n",
    "$$\n",
    "\\begin{align}\n",
    "q_1 &\\sim \\text{Gamma}(7, 11.6) \\\\\n",
    "q_2 &\\sim \\text{Gamma}(5, 6.7) \\\\  \n",
    "q_3 &\\sim \\text{Gamma}(1, 1.1) \\\\ \n",
    "q_4 &\\sim \\text{Gamma}(6, 9.6) \\\\\n",
    "\\end{align}\n",
    "$$\n",
    "The expectation of a Gamma Distribution is: $E[X] = \\frac{\\alpha}{\\beta}$, so we get the expected rates:\n",
    "1"
   ]
  },
  {
   "cell_type": "code",
   "execution_count": 23,
   "metadata": {
    "vscode": {
     "languageId": "r"
    }
   },
   "outputs": [
    {
     "data": {
      "text/html": [
       "<style>\n",
       ".list-inline {list-style: none; margin:0; padding: 0}\n",
       ".list-inline>li {display: inline-block}\n",
       ".list-inline>li:not(:last-child)::after {content: \"\\00b7\"; padding: 0 .5ex}\n",
       "</style>\n",
       "<ol class=list-inline><li>0.603448275862069</li><li>0.746268656716418</li><li>0.909090909090909</li><li>0.625</li></ol>\n"
      ],
      "text/latex": [
       "\\begin{enumerate*}\n",
       "\\item 0.603448275862069\n",
       "\\item 0.746268656716418\n",
       "\\item 0.909090909090909\n",
       "\\item 0.625\n",
       "\\end{enumerate*}\n"
      ],
      "text/markdown": [
       "1. 0.603448275862069\n",
       "2. 0.746268656716418\n",
       "3. 0.909090909090909\n",
       "4. 0.625\n",
       "\n",
       "\n"
      ],
      "text/plain": [
       "[1] 0.6034483 0.7462687 0.9090909 0.6250000"
      ]
     },
     "metadata": {},
     "output_type": "display_data"
    }
   ],
   "source": [
    "number_visited <- c(7, 5, 1, 6)\n",
    "holding_times <- c(11.6, 6.7, 1.1, 9.6)\n",
    "\n",
    "number_visited / holding_times"
   ]
  },
  {
   "cell_type": "markdown",
   "metadata": {},
   "source": [
    "## c) Write R code which takes as input the transition matrix ˜ P of a continuous time\n",
    "discrete state-space Markov chain and a vector q of parameters for the\n",
    "distributions of the holding times of the chain, and outputs the long-term\n",
    "probability that the process will be in state 3.\n",
    "Apply the code to the expected values found in questions (a) and (b) and\n",
    "report the result."
   ]
  }
 ],
 "metadata": {
  "kernelspec": {
   "display_name": "R",
   "language": "R",
   "name": "ir"
  },
  "language_info": {
   "codemirror_mode": "r",
   "file_extension": ".r",
   "mimetype": "text/x-r-source",
   "name": "R",
   "pygments_lexer": "r",
   "version": "4.4.2"
  }
 },
 "nbformat": 4,
 "nbformat_minor": 2
}
